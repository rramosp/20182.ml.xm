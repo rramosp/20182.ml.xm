{
 "cells": [
  {
   "cell_type": "markdown",
   "metadata": {},
   "source": [
    "# Matplotlib: ProblemSet\n",
    "\n",
    "\n",
    "- Para este Set se deben guardar las imagenes usando la siguiente instrucción:\n",
    "\n",
    "``` python\n",
    "\n",
    "plt.savefig(\"img/CEDULA_NumeralEjercicio.png\")\n",
    "\n",
    "#ejemplo:\n",
    "\n",
    "plt.savefig(\"img/1025468421_1.png\")\n",
    "```\n",
    "\n",
    "- enviar los resultados en un archivo comprimido que lleve por nombre su cédula al correro: alejandro.mesa2@udea.edu.co; Asunto: Graficas_Python\n",
    "\n",
    "- en el contenido poner el nombre completo\n",
    "\n",
    "- deadline **16 de Agosto de 2018**"
   ]
  },
  {
   "cell_type": "code",
   "execution_count": null,
   "metadata": {},
   "outputs": [],
   "source": [
    "import numpy as np\n",
    "import matplotlib.pyplot as plt\n",
    "\n",
    "%matplotlib inline"
   ]
  },
  {
   "cell_type": "markdown",
   "metadata": {},
   "source": [
    "## Problema 1\n",
    "\n",
    "Dado el conjunto de datos `PS3_1.dat` en un archivo, capturarlos e imprimir una gráfica de su histograma.\n",
    "\n",
    ">- darle nombre al grafico\n",
    ">- nombrar apropiadamente los ejes \n",
    "\n",
    "#### Solución"
   ]
  },
  {
   "cell_type": "code",
   "execution_count": null,
   "metadata": {},
   "outputs": [],
   "source": [
    "!head data/PS3_1.dat"
   ]
  },
  {
   "cell_type": "code",
   "execution_count": null,
   "metadata": {},
   "outputs": [],
   "source": [
    "#Tu codigo aqui\n",
    "\n",
    "#use np.loadtxt para cargar el archivo facilmente\n",
    "\n",
    "\n",
    "\n",
    "\n",
    "plt.savefig(\"img/CEDULA_1.png\")\n"
   ]
  },
  {
   "cell_type": "markdown",
   "metadata": {},
   "source": [
    "## Problema 2\n",
    "\n",
    "usando la serie de taylor centrada en 0 para la función seno, graficar el resultado de la suma parcial para 2, 5, 10 y 50 términos **Etiquetarlos**\n",
    "\n",
    "$$sin(x)=\\sum_{i=1}^{N} \\frac{(-1)^{n-1}X^{2n-1}}{(2n-1)!}$$\n",
    "\n",
    ">- darle nombre al grafico\n",
    ">- nombrar apropiadamente los ejes \n",
    ">- graficar entre (-20,-20) y (20,20)\n",
    "#### Solución"
   ]
  },
  {
   "cell_type": "code",
   "execution_count": null,
   "metadata": {},
   "outputs": [],
   "source": [
    "def seno(x, order):\n",
    "     a = x\n",
    "    s = a\n",
    "    for i in range(1, order):\n",
    "        a *= -1 * x**2 / ((2 * i) * (2 * i + 1))\n",
    "        s += a\n",
    "    return s\n",
    "\n",
    "senoT = np.vectorize(seno, excluded=['order'])\n",
    "\n",
    "#cree un arreglo x con los limites propuestos para la grafica en el eje x\n",
    "#invoque la funcion senoT(x,order) con dicho arreglo y con los valores pedidos en el orden\n",
    "#grafique todo en una sola imagen\n",
    "    \n",
    "#codigo de la grafica aqui\n",
    "\n",
    "\n",
    "\n",
    "\n",
    "\n",
    "\n",
    "plt.savefig(\"img/CEDULA_2.png\")\n"
   ]
  },
  {
   "cell_type": "markdown",
   "metadata": {},
   "source": [
    "## Problema 3\n",
    "\n",
    "realizar un método al que ingrese su cédula y capture el tercer dígito como a y el sexto como b, si alguno de ellos es 0 reemplazarlo por el siguiente hasta que encuentre un dígito apropiado. (si llega al último, continuar con el primero) usar dichos valores a y b para hacer una gráfica polar de la siguiente función:\n",
    "\n",
    " $$r=a+b cos (\\theta)$$\n",
    " \n",
    ">- asegurese de que la grafica se vea completa\n",
    ">- darle un titulo a la grafica\n"
   ]
  },
  {
   "cell_type": "code",
   "execution_count": null,
   "metadata": {},
   "outputs": [],
   "source": [
    "def valores(cc):\n",
    "    #su codigo aqui\n",
    "\n",
    "\n",
    "def grafica(a,b,theta): \n",
    "    #su codigo aqui\n",
    "    \n",
    "\n",
    "    \n",
    "plt.savefig(\"img/CEDULA_3.png\")\n"
   ]
  },
  {
   "cell_type": "markdown",
   "metadata": {},
   "source": [
    "## Problema 4\n",
    "cargar una imagen cualquiera en formato png, graficar en un multiplot de 4 posiciones:\n",
    "en el subplot de la esquina superior izquierda, graficar la imagen original, en la superior derecha la imagen en escala de grises, es la esquina inferior izquierda la imagen en negativo y en la última graficar la imagen con interpolación bicúbica (bicubic) y usando el mapa de color “nipy_spectral”\n"
   ]
  },
  {
   "cell_type": "code",
   "execution_count": null,
   "metadata": {},
   "outputs": [],
   "source": [
    "#tu codigo aqui\n",
    "#pude usar la imagen imagen.png proporcionada en la carpeta img si lo desea\n",
    "\n",
    "\n",
    "plt.savefig(\"img/CEDULA_4.png\")"
   ]
  }
 ],
 "metadata": {
  "kernelspec": {
   "display_name": "Python 2",
   "language": "python",
   "name": "python2"
  },
  "language_info": {
   "codemirror_mode": {
    "name": "ipython",
    "version": 2
   },
   "file_extension": ".py",
   "mimetype": "text/x-python",
   "name": "python",
   "nbconvert_exporter": "python",
   "pygments_lexer": "ipython2",
   "version": "2.7.14"
  }
 },
 "nbformat": 4,
 "nbformat_minor": 2
}
